{
 "cells": [
  {
   "cell_type": "code",
   "execution_count": 4,
   "metadata": {},
   "outputs": [
    {
     "ename": "",
     "evalue": "",
     "output_type": "error",
     "traceback": [
      "\u001b[1;31mThe Kernel crashed while executing code in the current cell or a previous cell. \n",
      "\u001b[1;31mPlease review the code in the cell(s) to identify a possible cause of the failure. \n",
      "\u001b[1;31mClick <a href='https://aka.ms/vscodeJupyterKernelCrash'>here</a> for more info. \n",
      "\u001b[1;31mView Jupyter <a href='command:jupyter.viewOutput'>log</a> for further details."
     ]
    }
   ],
   "source": [
    "\n",
    "!pip install opencv-python pandas matplotlib seaborn"
   ]
  },
  {
   "cell_type": "markdown",
   "metadata": {},
   "source": [
    "# License Plate Recognition - Soulpage IT Solutions Assignment\n",
    "\n",
    "# Introduction\n",
    "\n",
    "In this project, we focus on the task of License Plate Recognition (LPR) using computer vision and Optical Character Recognition (OCR) techniques. The goal is to detect and recognize vehicle license plates from images, and extract the alphanumeric text on the license plates.\n",
    "\n",
    "The project is divided into the following tasks:\n",
    "1. Detect vehicles in images using a pre-trained car detector (Haar Cascade Classifier).\n",
    "2. Detect license plates on the vehicles.\n",
    "3. Use OCR to extract the text from the detected license plates.\n",
    "4. Save the recognized license plate numbers in a CSV file.\n",
    "\n",
    "The dataset includes images with vehicle and license plate annotations. We use OpenCV for image processing and Tesseract OCR for text recognition.\n"
   ]
  },
  {
   "cell_type": "markdown",
   "metadata": {},
   "source": [
    "# Libraries Used\n",
    "\n",
    "The following libraries were used in this project:\n",
    "\n",
    "1. **OpenCV (cv2)**: A computer vision library used for image processing tasks such as car detection and license plate detection.\n",
    "2. **Pytesseract**: A Python wrapper for Tesseract OCR, used to recognize text from the images.\n",
    "3. **Pillow (PIL)**: A Python imaging library used for image manipulation.\n",
    "4. **CSV**: A built-in Python library used for writing the detected license plate text into a CSV file.\n",
    "5. **Matplotlib**: For visualizing images and results in the Jupyter notebook.\n"
   ]
  },
  {
   "cell_type": "markdown",
   "metadata": {},
   "source": [
    "# Approach\n",
    "\n",
    "The following steps outline the approach used in this project:\n",
    "\n",
    "1. **Car Detection**: Using Haar Cascade Classifier, we first detect vehicles in the image. The classifier helps identify the region where the vehicle is located in the image.\n",
    "   \n",
    "2. **License Plate Detection**: Within the region of the detected vehicle, we use another Haar Cascade Classifier to detect the license plate.\n",
    "\n",
    "3. **Preprocessing**: The detected license plate region is resized and thresholded to improve the accuracy of text recognition.\n",
    "\n",
    "4. **Text Recognition (OCR)**: Using Pytesseract, we extract the alphanumeric text from the detected license plate.\n",
    "\n",
    "5. **Results**: The detected license plate numbers are stored in a CSV file for further analysis.\n"
   ]
  },
  {
   "cell_type": "code",
   "execution_count": 1,
   "metadata": {},
   "outputs": [
    {
     "name": "stdout",
     "output_type": "stream",
     "text": [
      "Libraries imported successfully!\n"
     ]
    }
   ],
   "source": [
    "# 📦 Install libraries (run only once, then you can comment these lines)\n",
    "# !pip install opencv-python matplotlib pandas seaborn\n",
    "\n",
    "# 📚 Importing the basic libraries\n",
    "import os\n",
    "import cv2\n",
    "import matplotlib.pyplot as plt\n",
    "import pandas as pd\n",
    "import seaborn as sns\n",
    "\n",
    "# ✅ Optional: Make plots look nice\n",
    "sns.set_style(\"whitegrid\")\n",
    "\n",
    "print(\"Libraries imported successfully!\")\n"
   ]
  },
  {
   "cell_type": "code",
   "execution_count": 3,
   "metadata": {},
   "outputs": [
    {
     "name": "stdout",
     "output_type": "stream",
     "text": [
      "Total images found: 901\n",
      "First 5 images: ['0.jpg', '1.jpg', '10.jpg', '100.jpg', '101.jpg']\n"
     ]
    },
    {
     "data": {
      "image/png": "[encoded data removed]",
      "text/plain": [
       "<Figure size 600x400 with 1 Axes>"
      ]
     },
     "metadata": {},
     "output_type": "display_data"
    }
   ],
   "source": [
    "import os\n",
    "import cv2\n",
    "import matplotlib.pyplot as plt\n",
    "\n",
    "# 🔁 Updated path to your image folder\n",
    "folder_path = r\"C:\\Users\\pc\\OneDrive\\Desktop\\900 images\"\n",
    "\n",
    "# List images\n",
    "image_files = os.listdir(folder_path)\n",
    "print(f\"Total images found: {len(image_files)}\")\n",
    "print(\"First 5 images:\", image_files[:5])\n",
    "\n",
    "# Load the first image\n",
    "sample_image_path = os.path.join(folder_path, image_files[0])\n",
    "image = cv2.imread(sample_image_path)\n",
    "\n",
    "# Safety check\n",
    "if image is None:\n",
    "    print(\"❌ Could not load image. Please check the image format or file name.\")\n",
    "else:\n",
    "    image_rgb = cv2.cvtColor(image, cv2.COLOR_BGR2RGB)\n",
    "\n",
    "    plt.figure(figsize=(6, 4))\n",
    "    plt.imshow(image_rgb)\n",
    "    plt.title(\"Sample Image\")\n",
    "    plt.axis(\"off\")\n",
    "    plt.show()\n"
   ]
  },
  {
   "cell_type": "code",
   "execution_count": 4,
   "metadata": {},
   "outputs": [
    {
     "data": {
      "image/png": "[encoded data removed]",
      "text/plain": [
       "<Figure size 600x400 with 1 Axes>"
      ]
     },
     "metadata": {},
     "output_type": "display_data"
    }
   ],
   "source": [
    "import cv2\n",
    "import matplotlib.pyplot as plt\n",
    "\n",
    "# Set the correct path to your Haar Cascade file\n",
    "car_cascade = cv2.CascadeClassifier(r\"C:\\Users\\pc\\OneDrive\\Desktop\\license_plate_project\\haarcascade_cars3.xml\")\n",
    "\n",
    "# Set the image path (use the actual image filename here)\n",
    "sample_image_path = r\"C:\\Users\\pc\\OneDrive\\Desktop\\900 images\\0.jpg\"  # Replace with your actual image filename\n",
    "\n",
    "# Load the image\n",
    "image = cv2.imread(sample_image_path)\n",
    "\n",
    "# Convert the image to grayscale\n",
    "gray_image = cv2.cvtColor(image, cv2.COLOR_BGR2GRAY)\n",
    "\n",
    "# Detect cars in the image\n",
    "cars = car_cascade.detectMultiScale(gray_image, scaleFactor=1.1, minNeighbors=5, minSize=(30, 30))\n",
    "\n",
    "# Draw rectangles around the detected cars\n",
    "for (x, y, w, h) in cars:\n",
    "    cv2.rectangle(image, (x, y), (x + w, y + h), (0, 255, 0), 2)  # Green rectangle\n",
    "\n",
    "# Convert from BGR (OpenCV) to RGB (Matplotlib)\n",
    "image_rgb = cv2.cvtColor(image, cv2.COLOR_BGR2RGB)\n",
    "\n",
    "# Display the image with detected cars\n",
    "plt.figure(figsize=(6, 4))\n",
    "plt.imshow(image_rgb)\n",
    "plt.title(\"Vehicle Detection\")\n",
    "plt.axis(\"off\")\n",
    "plt.show()\n"
   ]
  },
  {
   "cell_type": "code",
   "execution_count": 5,
   "metadata": {},
   "outputs": [
    {
     "name": "stdout",
     "output_type": "stream",
     "text": [
      "✅ License plate cascade loaded!\n"
     ]
    },
    {
     "data": {
      "image/png": "[encoded data removed]",
      "text/plain": [
       "<Figure size 800x500 with 1 Axes>"
      ]
     },
     "metadata": {},
     "output_type": "display_data"
    }
   ],
   "source": [
    "# Load license plate cascade\n",
    "plate_cascade_path = r\"C:\\Users\\pc\\OneDrive\\Desktop\\license_plate_project\\haarcascade_car_plate_number.xml\"\n",
    "plate_cascade = cv2.CascadeClassifier(plate_cascade_path)\n",
    "\n",
    "if plate_cascade.empty():\n",
    "    print(\"❌ Failed to load license plate cascade.\")\n",
    "else:\n",
    "    print(\"✅ License plate cascade loaded!\")\n",
    "\n",
    "    for (x, y, w, h) in cars:\n",
    "        # Crop each detected car\n",
    "        car_roi = gray_image[y:y+h, x:x+w]\n",
    "\n",
    "        # Detect license plates within the car region\n",
    "        plates = plate_cascade.detectMultiScale(car_roi, scaleFactor=1.1, minNeighbors=4, minSize=(25, 25))\n",
    "\n",
    "        for (px, py, pw, ph) in plates:\n",
    "            # Draw rectangle on the original image\n",
    "            cv2.rectangle(image, (x + px, y + py), (x + px + pw, y + py + ph), (255, 0, 0), 2)\n",
    "\n",
    "    # Show the final result\n",
    "    image_rgb = cv2.cvtColor(image, cv2.COLOR_BGR2RGB)\n",
    "    plt.figure(figsize=(8, 5))\n",
    "    plt.imshow(image_rgb)\n",
    "    plt.title(\"Detected Vehicles and License Plates\")\n",
    "    plt.axis(\"off\")\n",
    "    plt.show()\n"
   ]
  },
  {
   "cell_type": "code",
   "execution_count": 6,
   "metadata": {},
   "outputs": [
    {
     "name": "stdout",
     "output_type": "stream",
     "text": [
      "Requirement already satisfied: pytesseract in e:\\users\\pc\\anaconda3\\lib\\site-packages (0.3.13)\n",
      "Requirement already satisfied: packaging>=21.3 in e:\\users\\pc\\anaconda3\\lib\\site-packages (from pytesseract) (24.1)\n",
      "Requirement already satisfied: Pillow>=8.0.0 in e:\\users\\pc\\anaconda3\\lib\\site-packages (from pytesseract) (10.4.0)\n",
      "Note: you may need to restart the kernel to use updated packages.\n"
     ]
    }
   ],
   "source": [
    "pip install pytesseract"
   ]
  },
  {
   "cell_type": "code",
   "execution_count": 7,
   "metadata": {},
   "outputs": [],
   "source": [
    "import pytesseract\n",
    "from PIL import Image\n",
    "\n",
    "# Tell pytesseract where Tesseract is installed\n",
    "pytesseract.pytesseract.tesseract_cmd = r\"C:\\Users\\pc\\OneDrive\\Desktop\\license_plate_project\\tesseract.exe\"\n",
    "\n",
    "# OCR on each detected license plate\n",
    "for (x, y, w, h) in cars:\n",
    "    car_roi = gray_image[y:y+h, x:x+w]\n",
    "\n",
    "    plates = plate_cascade.detectMultiScale(car_roi, scaleFactor=1.1, minNeighbors=4, minSize=(25, 25))\n",
    "\n",
    "    for (px, py, pw, ph) in plates:\n",
    "        plate_img = car_roi[py:py+ph, px:px+pw]\n",
    "\n",
    "        # Optional preprocessing for better OCR\n",
    "        plate_resized = cv2.resize(plate_img, None, fx=2, fy=2)\n",
    "        plate_thresh = cv2.adaptiveThreshold(plate_resized, 255, cv2.ADAPTIVE_THRESH_GAUSSIAN_C,\n",
    "                                             cv2.THRESH_BINARY, 11, 2)\n",
    "\n",
    "        # Convert to PIL image for pytesseract\n",
    "        pil_img = Image.fromarray(plate_thresh)\n",
    "\n",
    "        # OCR\n",
    "        custom_config = r'--oem 3 --psm 8'\n",
    "        text = pytesseract.image_to_string(pil_img, config=custom_config)\n",
    "\n",
    "        print(\"🔍 Detected Plate Text:\", text.strip())"
   ]
  },
  {
   "cell_type": "code",
   "execution_count": 8,
   "metadata": {},
   "outputs": [
    {
     "name": "stdout",
     "output_type": "stream",
     "text": [
      " CSV file created: recognized_plates.csv\n"
     ]
    }
   ],
   "source": [
    "import os\n",
    "import csv\n",
    "from PIL import Image\n",
    "import pytesseract\n",
    "\n",
    "# Set path to tesseract.exe\n",
    "pytesseract.pytesseract.tesseract_cmd = r\"C:\\Users\\pc\\OneDrive\\Desktop\\tesseract\\tesseract.exe\"\n",
    "\n",
    "# Set environment variable to the directory above tessdata\n",
    "os.environ[\"TESSDATA_PREFIX\"] = r\"C:\\Users\\pc\\OneDrive\\Desktop\\tesseract\\tessdata\\eng.traineddata.traineddata\"\n",
    "\n",
    "# Folder containing test images\n",
    "test_images_folder = r\"C:\\Users\\pc\\OneDrive\\Desktop\\license_plate_project\\test images\"\n",
    "\n",
    "# List to store results\n",
    "results = []\n",
    "\n",
    "# Loop through all images in the folder\n",
    "for filename in os.listdir(test_images_folder):\n",
    "    if filename.endswith(\".jpg\") or filename.endswith(\".png\"):  # check for image file types\n",
    "        image_path = os.path.join(test_images_folder, filename)\n",
    "        \n",
    "        # Open image\n",
    "        image = Image.open(image_path)\n",
    "\n",
    "        # Run OCR\n",
    "        text = pytesseract.image_to_string(image)\n",
    "\n",
    "        # Append the result (Image name and detected text)\n",
    "        results.append((filename, text.strip()))  # Strip to remove any extra spaces or newlines\n",
    "\n",
    "# Save to CSV\n",
    "with open(\"recognized_plates.csv\", mode=\"w\", newline=\"\") as file:\n",
    "    writer = csv.writer(file)\n",
    "    writer.writerow([\"Image Name\", \"Detected Plate Text\"])  # header\n",
    "    writer.writerows(results)\n",
    "\n",
    "print(\" CSV file created: recognized_plates.csv\")\n"
   ]
  },
  {
   "cell_type": "markdown",
   "metadata": {},
   "source": [
    "# Results\n",
    "\n",
    "The project successfully detects and extracts the license plate numbers from the images. The results are saved in a CSV file, which contains the text of the recognized license plates.\n",
    "\n",
    "The final output includes a CSV file `detected_plates.csv` with a column labeled \"Detected Plate Text\" where each row contains a detected license plate number.\n"
   ]
  },
  {
   "cell_type": "markdown",
   "metadata": {},
   "source": [
    "# Conclusion\n",
    "\n",
    "In this project, we successfully implemented a License Plate Recognition system using computer vision and OCR techniques. The following steps were carried out:\n",
    "1. Vehicle detection using OpenCV's pre-trained Haar Cascade Classifier.\n",
    "2. License plate detection within the detected vehicle regions.\n",
    "3. Text extraction using Tesseract OCR.\n",
    "\n",
    "The recognized text (license plate numbers) was stored in a CSV file for further analysis. This solution demonstrates the power of combining machine learning and traditional computer vision methods for real-world applications.\n"
   ]
  }
 ],
 "metadata": {
  "kernelspec": {
   "display_name": "base",
   "language": "python",
   "name": "python3"
  },
  "language_info": {
   "codemirror_mode": {
    "name": "ipython",
    "version": 3
   },
   "file_extension": ".py",
   "mimetype": "text/x-python",
   "name": "python",
   "nbconvert_exporter": "python",
   "pygments_lexer": "ipython3",
   "version": "3.12.7"
  }
 },
 "nbformat": 4,
 "nbformat_minor": 2
}
